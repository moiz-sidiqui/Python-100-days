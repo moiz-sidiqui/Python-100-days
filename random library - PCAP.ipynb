{
 "cells": [
  {
   "cell_type": "markdown",
   "id": "fafe0555-2b1d-45ee-937f-1e73299e1b7a",
   "metadata": {},
   "source": [
    "## Random Library"
   ]
  },
  {
   "cell_type": "code",
   "execution_count": 8,
   "id": "0df3ede9-1c0d-4a21-bb37-3c481bb91d3a",
   "metadata": {},
   "outputs": [
    {
     "name": "stdout",
     "output_type": "stream",
     "text": [
      "0.7347059818295627\n"
     ]
    }
   ],
   "source": [
    "#using random\n",
    "\n",
    "import random as r\n",
    "X = r.random()\n",
    "print(X)"
   ]
  },
  {
   "cell_type": "code",
   "execution_count": 15,
   "id": "df2b950a-c161-4c06-a291-f8cc362bacab",
   "metadata": {},
   "outputs": [
    {
     "name": "stdout",
     "output_type": "stream",
     "text": [
      "0.13436424411240122\n"
     ]
    }
   ],
   "source": [
    "import random as r\n",
    "\n",
    "r.seed(1)\n",
    "\n",
    "X = r.random()\n",
    "print(X)"
   ]
  },
  {
   "cell_type": "code",
   "execution_count": 17,
   "id": "bf34b7fc-a996-4f47-9efe-ed745d51cbc7",
   "metadata": {},
   "outputs": [
    {
     "name": "stdout",
     "output_type": "stream",
     "text": [
      "4\n"
     ]
    }
   ],
   "source": [
    "y = r.randrange(9)\n",
    "print(y)\n"
   ]
  },
  {
   "cell_type": "code",
   "execution_count": 23,
   "id": "12bc3bec-c395-4ad2-be48-541ab38bcfc0",
   "metadata": {},
   "outputs": [
    {
     "name": "stdout",
     "output_type": "stream",
     "text": [
      "2\n"
     ]
    }
   ],
   "source": [
    "z = r.randrange(2,4)\n",
    "print(z)"
   ]
  },
  {
   "cell_type": "markdown",
   "id": "32781fa9-0cef-46c3-8e6e-7d5820292177",
   "metadata": {},
   "source": [
    "print(r.randrange(2,20,3))"
   ]
  },
  {
   "cell_type": "code",
   "execution_count": null,
   "id": "e12299e5-7139-4d49-a0ec-d75a20f6df22",
   "metadata": {},
   "outputs": [],
   "source": [
    "## Random"
   ]
  },
  {
   "cell_type": "code",
   "execution_count": 33,
   "id": "51328422-8290-44ec-823d-ba6d2b3e167a",
   "metadata": {},
   "outputs": [
    {
     "name": "stdout",
     "output_type": "stream",
     "text": [
      "2\n"
     ]
    }
   ],
   "source": [
    "print(r.randint(2,3))"
   ]
  },
  {
   "cell_type": "code",
   "execution_count": 45,
   "id": "dffdfdc8-85b0-429d-9ea2-9bb8e5dc0da2",
   "metadata": {},
   "outputs": [
    {
     "name": "stdout",
     "output_type": "stream",
     "text": [
      "4\n",
      "[3, 8, 5, 4, 1, 7, 6, 2]\n"
     ]
    }
   ],
   "source": [
    "listt = [1,2,3,4,5,6,7,8]\n",
    "print(r.choice(listt))\n",
    "\n",
    "print(r.sample(listt, 8))"
   ]
  }
 ],
 "metadata": {
  "kernelspec": {
   "display_name": "Python 3 (ipykernel)",
   "language": "python",
   "name": "python3"
  },
  "language_info": {
   "codemirror_mode": {
    "name": "ipython",
    "version": 3
   },
   "file_extension": ".py",
   "mimetype": "text/x-python",
   "name": "python",
   "nbconvert_exporter": "python",
   "pygments_lexer": "ipython3",
   "version": "3.11.7"
  }
 },
 "nbformat": 4,
 "nbformat_minor": 5
}
